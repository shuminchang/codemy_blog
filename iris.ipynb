{
 "cells": [
  {
   "cell_type": "code",
   "execution_count": null,
   "metadata": {},
   "outputs": [],
   "source": [
    "# Load Libraries\n",
    "from sklearn.model_selection import train_test_split\n",
    "from sklearn.svm import SVC\n",
    "import pandas as pd\n",
    "\n",
    "# Load dataset\n",
    "df = pd.read_csv(\"/media/shumin/ssd2T/github/codemy_blog/codemy_blog/iris.csv\")\n",
    "\n",
    "# Split into training data and test data\n",
    "# Create training and testing vars. It's usually around 80/20 or 70/30.\n",
    "X = df[['sepal_length', 'sepal_width', 'petal_length', 'petal_width']]\n",
    "y = df['classification']\n",
    "\n",
    "X_train, X_test, Y_train, Y_test = train_test_split(X, y, test_size=0.20, random_state=1)\n",
    "\n",
    "# Now we'll fit the model on the training data\n",
    "model = SVC(gamma='auto')\n",
    "model.fit(X_train, Y_train)\n",
    "\n",
    "# Make prediction on validation dataset\n",
    "predictions = model.predict(X_test)\n",
    "\n",
    "# Pickle model\n",
    "pd.to_pickle(model, r\"/media/shumin/ssd2T/github/codemy_blog/codemy_blog/new_model.pickle\")\n",
    "\n",
    "# Unpickle model\n",
    "model = pd.read_pickle(r\"/media/shumin/ssd2T/github/codemy_blog/codemy_blog/new_model.pickle\")\n",
    "# read a pickle pd.read_pickle(\"model.pkl\")\n",
    "\n",
    "# Take input from user\n",
    "sepal_length = float(input(\"Enter sepal_length: \"))\n",
    "sepal_width = float(input(\"Enter sepal_width: \"))\n",
    "petal_length = float(input(\"Enter petal_length: \"))\n",
    "petal_width = float(input(\"Enter petal_width: \"))\n",
    "\n",
    "result = model.predict([[sepal_length, sepal_width, petal_length, petal_width]])\n",
    "print(result)"
   ]
  }
 ],
 "metadata": {
  "language_info": {
   "name": "python"
  },
  "orig_nbformat": 4
 },
 "nbformat": 4,
 "nbformat_minor": 2
}
