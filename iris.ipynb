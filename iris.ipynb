{
 "cells": [
  {
   "cell_type": "code",
   "execution_count": 7,
   "metadata": {},
   "outputs": [
    {
     "name": "stdout",
     "output_type": "stream",
     "text": [
      "Accuracy: 0.97\n",
      "Precision: 0.97\n",
      "Recall: 0.9667\n",
      "F1-score: 0.967\n",
      "Confusion Matrix:\n",
      "[[11  0  0]\n",
      " [ 0 12  1]\n",
      " [ 0  0  6]]\n"
     ]
    },
    {
     "ename": "ValueError",
     "evalue": "could not convert string to float: ''",
     "output_type": "error",
     "traceback": [
      "\u001b[0;31m---------------------------------------------------------------------------\u001b[0m",
      "\u001b[0;31mValueError\u001b[0m                                Traceback (most recent call last)",
      "Cell \u001b[0;32mIn[7], line 61\u001b[0m\n\u001b[1;32m     59\u001b[0m sepal_length \u001b[38;5;241m=\u001b[39m \u001b[38;5;28mfloat\u001b[39m(\u001b[38;5;28minput\u001b[39m(\u001b[38;5;124m\"\u001b[39m\u001b[38;5;124mEnter sepal_length: \u001b[39m\u001b[38;5;124m\"\u001b[39m))\n\u001b[1;32m     60\u001b[0m sepal_width \u001b[38;5;241m=\u001b[39m \u001b[38;5;28mfloat\u001b[39m(\u001b[38;5;28minput\u001b[39m(\u001b[38;5;124m\"\u001b[39m\u001b[38;5;124mEnter sepal_width: \u001b[39m\u001b[38;5;124m\"\u001b[39m))\n\u001b[0;32m---> 61\u001b[0m petal_length \u001b[38;5;241m=\u001b[39m \u001b[38;5;28;43mfloat\u001b[39;49m\u001b[43m(\u001b[49m\u001b[38;5;28;43minput\u001b[39;49m\u001b[43m(\u001b[49m\u001b[38;5;124;43m\"\u001b[39;49m\u001b[38;5;124;43mEnter petal_length: \u001b[39;49m\u001b[38;5;124;43m\"\u001b[39;49m\u001b[43m)\u001b[49m\u001b[43m)\u001b[49m\n\u001b[1;32m     62\u001b[0m petal_width \u001b[38;5;241m=\u001b[39m \u001b[38;5;28mfloat\u001b[39m(\u001b[38;5;28minput\u001b[39m(\u001b[38;5;124m\"\u001b[39m\u001b[38;5;124mEnter petal_width: \u001b[39m\u001b[38;5;124m\"\u001b[39m))\n\u001b[1;32m     64\u001b[0m result \u001b[38;5;241m=\u001b[39m model\u001b[38;5;241m.\u001b[39mpredict([[sepal_length, sepal_width, petal_length, petal_width]])\n",
      "\u001b[0;31mValueError\u001b[0m: could not convert string to float: ''"
     ]
    }
   ],
   "source": [
    "# Load Libraries\n",
    "from sklearn.model_selection import train_test_split\n",
    "from sklearn.svm import SVC\n",
    "from sklearn.metrics import accuracy_score, precision_score, recall_score, f1_score, confusion_matrix\n",
    "import pandas as pd\n",
    "import os\n",
    "\n",
    "# Get the current directory\n",
    "current_directory_path = os.getcwd()\n",
    "\n",
    "# Load dataset\n",
    "iris_csv_path = os.path.join(current_directory_path, \"iris.csv\")\n",
    "df = pd.read_csv(iris_csv_path)\n",
    "\n",
    "# Split into training data and test data\n",
    "# Create training and testing vars. It's usually around 80/20 or 70/30.\n",
    "X = df[['sepal_length', 'sepal_width', 'petal_length', 'petal_width']]\n",
    "y = df['classification']\n",
    "\n",
    "X_train, X_test, Y_train, Y_test = train_test_split(X, y, test_size=0.20, random_state=1)\n",
    "\n",
    "# Now we'll fit the model on the training data\n",
    "model = SVC(gamma='auto')\n",
    "model.fit(X_train, Y_train)\n",
    "\n",
    "# Make prediction on validation dataset\n",
    "predictions = model.predict(X_test)\n",
    "\n",
    "# Calculate accuracy\n",
    "accuracy = accuracy_score(Y_test, predictions)\n",
    "print(f\"Accuracy: {accuracy:.2f}\")\n",
    "\n",
    "# Calculate precision\n",
    "precision = precision_score(Y_test, predictions, average='weighted')\n",
    "print(f\"Precision: {precision:.2f}\")\n",
    "\n",
    "# Calculate recall\n",
    "recall = recall_score(Y_test, predictions, average='weighted')\n",
    "print(f\"Recall: {recall:.2f}\")\n",
    "\n",
    "# Calculate F1-score\n",
    "f1 = f1_score(Y_test, predictions, average='weighted')\n",
    "print(f\"F1-score: {f1:.2f}\")\n",
    "\n",
    "# Confusion matrix\n",
    "conf_matrix = confusion_matrix(Y_test, predictions)\n",
    "print(\"Confusion Matrix:\")\n",
    "print(conf_matrix)\n",
    "\n",
    "# Pickle model\n",
    "model_pickle_path = os.path.join(current_directory_path, \"iris_model.pickle\")\n",
    "pd.to_pickle(model, model_pickle_path)\n",
    "\n",
    "# Unpickle model\n",
    "model = pd.read_pickle(model_pickle_path)\n",
    "# read a pickle pd.read_pickle(\"model.pkl\")\n",
    "\n",
    "# Take input from user\n",
    "sepal_length = float(input(\"Enter sepal_length: \"))\n",
    "sepal_width = float(input(\"Enter sepal_width: \"))\n",
    "petal_length = float(input(\"Enter petal_length: \"))\n",
    "petal_width = float(input(\"Enter petal_width: \"))\n",
    "\n",
    "result = model.predict([[sepal_length, sepal_width, petal_length, petal_width]])\n",
    "print(result)"
   ]
  },
  {
   "cell_type": "markdown",
   "metadata": {},
   "source": [
    "# Test Example\n",
    "\n",
    "Iris-setosa:\n",
    "\n",
    "Sepal Length: 4.3 to 5.8 <br>\n",
    "Sepal Width: 2.3 to 4.4 <br>\n",
    "Petal Length: 1.0 to 1.9 <br>\n",
    "Petal Width: 0.1 to 0.6 <br>\n",
    "\n",
    "Iris-versicolor:\n",
    "\n",
    "Sepal Length: 4.9 to 7.0 <br>\n",
    "Sepal Width: 2.0 to 3.4 <br>\n",
    "Petal Length: 3.0 to 5.1 <br>\n",
    "Petal Width: 1.0 to 1.8 <br>\n",
    "\n",
    "Iris-virginica:\n",
    "\n",
    "Sepal Length: 4.9 to 7.9 <br>\n",
    "Sepal Width: 2.2 to 3.8 <br>\n",
    "Petal Length: 4.5 to 6.9 <br>\n",
    "Petal Width: 1.4 to 2.5 <br>"
   ]
  }
 ],
 "metadata": {
  "kernelspec": {
   "display_name": "codemy_blog_env",
   "language": "python",
   "name": "python3"
  },
  "language_info": {
   "codemirror_mode": {
    "name": "ipython",
    "version": 3
   },
   "file_extension": ".py",
   "mimetype": "text/x-python",
   "name": "python",
   "nbconvert_exporter": "python",
   "pygments_lexer": "ipython3",
   "version": "3.8.18"
  },
  "orig_nbformat": 4
 },
 "nbformat": 4,
 "nbformat_minor": 2
}
